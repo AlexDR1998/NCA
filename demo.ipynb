{
 "cells": [
  {
   "cell_type": "markdown",
   "id": "9ab0aeb7",
   "metadata": {},
   "source": [
    "# Neural Cellular Automata Demo\n",
    "\n",
    "This Jupyter notebook functions as a minimal demonstration of the Neural Cellular Automata (NCA) framework "
   ]
  },
  {
   "cell_type": "code",
   "execution_count": 1,
   "id": "1c50334d",
   "metadata": {},
   "outputs": [
    {
     "name": "stderr",
     "output_type": "stream",
     "text": [
      "2023-03-08 10:42:54.666075: W tensorflow/stream_executor/platform/default/dso_loader.cc:64] Could not load dynamic library 'libcudart.so.11.0'; dlerror: libcudart.so.11.0: cannot open shared object file: No such file or directory\n",
      "2023-03-08 10:42:54.666092: I tensorflow/stream_executor/cuda/cudart_stub.cc:29] Ignore above cudart dlerror if you do not have a GPU set up on your machine.\n",
      "/home/s1605376/Virtual Environments/my_python/lib/python3.8/site-packages/tensorflow_addons/utils/ensure_tf_install.py:53: UserWarning: Tensorflow Addons supports using Python ops for all Tensorflow versions above or equal to 2.8.0 and strictly below 2.11.0 (nightly versions are not supported). \n",
      " The versions of TensorFlow you are currently using is 2.6.0 and is not supported. \n",
      "Some things might work, some things might not.\n",
      "If you were to encounter a bug, do not file an issue.\n",
      "If you want to make sure you're using a tested and supported configuration, either change the TensorFlow version or the TensorFlow Addons's version. \n",
      "You can find the compatibility matrix in TensorFlow Addon's readme:\n",
      "https://github.com/tensorflow/addons\n",
      "  warnings.warn(\n"
     ]
    }
   ],
   "source": [
    "from NCA_class import NCA\n",
    "from NCA_train import *\n",
    "from NCA_utils import *\n",
    "# Works with or without a GPU, tensorflow will complain a bit on import regardless."
   ]
  },
  {
   "cell_type": "markdown",
   "id": "e9580bfd",
   "metadata": {},
   "source": [
    "### Define model parameters\n",
    "Note that many more model parameters are optional with defaults"
   ]
  },
  {
   "cell_type": "code",
   "execution_count": 4,
   "id": "fba8728a",
   "metadata": {},
   "outputs": [],
   "source": [
    "N_CHANNELS = 4\n"
   ]
  },
  {
   "cell_type": "markdown",
   "id": "13b91f0e",
   "metadata": {},
   "source": [
    "### Create NCA instance"
   ]
  },
  {
   "cell_type": "code",
   "execution_count": 5,
   "id": "36429db1",
   "metadata": {},
   "outputs": [
    {
     "name": "stdout",
     "output_type": "stream",
     "text": [
      "Model: \"sequential_1\"\n",
      "_________________________________________________________________\n",
      "Layer (type)                 Output Shape              Param #   \n",
      "=================================================================\n",
      "conv2d_2 (Conv2D)            (1, 7, 7, 16)             192       \n",
      "_________________________________________________________________\n",
      "conv2d_3 (Conv2D)            (1, 7, 7, 4)              68        \n",
      "=================================================================\n",
      "Total params: 260\n",
      "Trainable params: 260\n",
      "Non-trainable params: 0\n",
      "_________________________________________________________________\n",
      "None\n"
     ]
    }
   ],
   "source": [
    "model = NCA(N_CHANNELS)\n",
    "# print the model for more verbose information\n",
    "#print(model)"
   ]
  }
 ],
 "metadata": {
  "kernelspec": {
   "display_name": "Python 3 (ipykernel)",
   "language": "python",
   "name": "python3"
  },
  "language_info": {
   "codemirror_mode": {
    "name": "ipython",
    "version": 3
   },
   "file_extension": ".py",
   "mimetype": "text/x-python",
   "name": "python",
   "nbconvert_exporter": "python",
   "pygments_lexer": "ipython3",
   "version": "3.8.10"
  }
 },
 "nbformat": 4,
 "nbformat_minor": 5
}
